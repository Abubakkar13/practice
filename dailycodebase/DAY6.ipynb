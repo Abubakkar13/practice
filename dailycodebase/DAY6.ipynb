{
 "cells": [
  {
   "cell_type": "markdown",
   "metadata": {},
   "source": [
    "## Day 6\n",
    "# Part A - Sentence Capitalization\n",
    "Question - Write a program to capitalize the first letter of each word in the string."
   ]
  },
  {
   "cell_type": "code",
   "execution_count": 1,
   "metadata": {},
   "outputs": [
    {
     "name": "stdin",
     "output_type": "stream",
     "text": [
      "Enter a string =  abde\n"
     ]
    },
    {
     "name": "stdout",
     "output_type": "stream",
     "text": [
      "Capitalize words =  Abde\n"
     ]
    }
   ],
   "source": [
    "def Cap(String):\n",
    "    String = list(String)\n",
    "    String[0] = String[0].upper()\n",
    "    for i in range(1, len(String)):\n",
    "        if(String[i] == ' ' and i < len(String)-1 ):\n",
    "            String[i+1] = String[i+1].upper()\n",
    "    return \"\".join(String)\n",
    "Str = input(\"Enter a string = \")\n",
    "print(\"Capitalize words = \", Cap(Str))"
   ]
  },
  {
   "cell_type": "markdown",
   "metadata": {},
   "source": [
    "# Part B - Word Reversal\n",
    "Question - Given a sentence, Write a program to reverse each word in it."
   ]
  },
  {
   "cell_type": "code",
   "execution_count": 2,
   "metadata": {},
   "outputs": [
    {
     "name": "stdin",
     "output_type": "stream",
     "text": [
      "Enter a string =  abcde\n"
     ]
    },
    {
     "name": "stdout",
     "output_type": "stream",
     "text": [
      "Words Reversed = edcba\n"
     ]
    }
   ],
   "source": [
    "def rev(Str, start, end):\n",
    "    for i in range(0, (end-start)//2):\n",
    "        Str[i+start], Str[end-i-1] = Str[end-i-1], Str[i+start]\n",
    "def wordRev(Str):\n",
    "    Str = list(Str)\n",
    "    start = 0\n",
    "    while( True ):\n",
    "        try: end = Str.index(' ', start)\n",
    "        except ValueError: break\n",
    "        rev(Str, start, end)\n",
    "        start = end+1\n",
    "    rev(Str, start, len(Str))\n",
    "    return ''.join(Str)\n",
    "Str = input(\"Enter a string = \")\n",
    "print(\"Words Reversed =\", wordRev(Str))"
   ]
  },
  {
   "cell_type": "markdown",
   "metadata": {},
   "source": [
    "# Part C - Anagram Check\n",
    "Question - Write a program to check whether the two provided strings are anagrams of each other."
   ]
  },
  {
   "cell_type": "code",
   "execution_count": 4,
   "metadata": {},
   "outputs": [
    {
     "name": "stdin",
     "output_type": "stream",
     "text": [
      "Enter string 1 =  abcd\n",
      "Enter string 2 =  dcba\n"
     ]
    },
    {
     "name": "stdout",
     "output_type": "stream",
     "text": [
      "abcd & dcba are anagrams\n"
     ]
    }
   ],
   "source": [
    "Str1 = input(\"Enter string 1 = \")\n",
    "Str2 = input(\"Enter string 2 = \")\n",
    "print(Str1, \"&\", Str2, \"are\", end=\" \")\n",
    "if( sorted(Str1) != sorted(Str2) ): print(\"not\", end=\" \")\n",
    "print(\"anagrams\")"
   ]
  },
  {
   "cell_type": "code",
   "execution_count": null,
   "metadata": {},
   "outputs": [],
   "source": []
  }
 ],
 "metadata": {
  "kernelspec": {
   "display_name": "Python 3",
   "language": "python",
   "name": "python3"
  },
  "language_info": {
   "codemirror_mode": {
    "name": "ipython",
    "version": 3
   },
   "file_extension": ".py",
   "mimetype": "text/x-python",
   "name": "python",
   "nbconvert_exporter": "python",
   "pygments_lexer": "ipython3",
   "version": "3.6.7"
  }
 },
 "nbformat": 4,
 "nbformat_minor": 2
}
