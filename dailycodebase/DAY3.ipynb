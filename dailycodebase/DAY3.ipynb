{
 "cells": [
  {
   "cell_type": "markdown",
   "metadata": {},
   "source": [
    "## Day 3 -- The Hamming Distance Problem\n",
    "Given 2 strings, we will find the number of positions at which the corresponding characters are different.\n"
   ]
  },
  {
   "cell_type": "code",
   "execution_count": 3,
   "metadata": {},
   "outputs": [
    {
     "name": "stdin",
     "output_type": "stream",
     "text": [
      "Enter the first string? abcde\n",
      "Enter the second string? ebcda\n"
     ]
    },
    {
     "name": "stdout",
     "output_type": "stream",
     "text": [
      "list of unmatched characters are: ['a', 'e']\n",
      "number of characters not matching are: 2\n"
     ]
    }
   ],
   "source": [
    "a=input(\"Enter the first string?\")\n",
    "b=input(\"Enter the second string?\")\n",
    "c=list(a.replace(\" \",\"\"))\n",
    "d=list(b.replace(\" \",\"\"))\n",
    "k=[i for i,j in zip(c,d) if i!=j]\n",
    "print(\"list of unmatched characters are:\",k)\n",
    "print(\"number of characters not matching are:\",len(k))"
   ]
  },
  {
   "cell_type": "code",
   "execution_count": null,
   "metadata": {},
   "outputs": [],
   "source": []
  }
 ],
 "metadata": {
  "kernelspec": {
   "display_name": "Python 3",
   "language": "python",
   "name": "python3"
  },
  "language_info": {
   "codemirror_mode": {
    "name": "ipython",
    "version": 3
   },
   "file_extension": ".py",
   "mimetype": "text/x-python",
   "name": "python",
   "nbconvert_exporter": "python",
   "pygments_lexer": "ipython3",
   "version": "3.6.7"
  }
 },
 "nbformat": 4,
 "nbformat_minor": 2
}
