{
 "cells": [
  {
   "cell_type": "markdown",
   "metadata": {},
   "source": [
    "# Day 15 - Recursion Series Part C\n",
    "\n",
    "\n",
    "## Question -- Write a function that takes an integer n as input and prints first n lines of Pascal's Triangle"
   ]
  },
  {
   "cell_type": "code",
   "execution_count": 2,
   "metadata": {},
   "outputs": [
    {
     "name": "stdout",
     "output_type": "stream",
     "text": [
      "Enter a number:\n",
      "8\n",
      "1 \n",
      "1 1 \n",
      "1 2 1 \n",
      "1 3 3 1 \n",
      "1 4 6 4 1 \n",
      "1 5 10 10 5 1 \n",
      "1 6 15 20 15 6 1 \n",
      "1 7 21 35 35 21 7 1 \n",
      "\n"
     ]
    }
   ],
   "source": [
    "def fill_table(num):\n",
    "  table = []\n",
    "\n",
    "  for i in range(num):\n",
    "        table.append([0] * num)\n",
    "\n",
    "  for i in range(num):\n",
    "    table[i][0] = 1\n",
    "\n",
    "  for i in range(1, num):\n",
    "    for j in range(1, num):\n",
    "      table[i][j] = table[i - 1][j] + table[i - 1][j - 1]\n",
    "\n",
    "  return table\n",
    "\n",
    "def print_table(table):\n",
    "  str = ''\n",
    "  for i in range(len(table)):\n",
    "    for j in range(len(table)):\n",
    "      if table[i][j] != 0:\n",
    "        str += f'{table[i][j]} '\n",
    "    str += '\\n'\n",
    "  print(str)\n",
    "\n",
    "def main():\n",
    "  print(\"Enter a number:\")\n",
    "  num = int(input())\n",
    "  if num >= 1:\n",
    "    table = fill_table(num)\n",
    "    print_table(table)\n",
    "  else:\n",
    "    print(f'Pascal triangle cannot have {num} rows')\n",
    "\n",
    "main()"
   ]
  },
  {
   "cell_type": "code",
   "execution_count": null,
   "metadata": {},
   "outputs": [],
   "source": []
  }
 ],
 "metadata": {
  "kernelspec": {
   "display_name": "Python 3",
   "language": "python",
   "name": "python3"
  },
  "language_info": {
   "codemirror_mode": {
    "name": "ipython",
    "version": 3
   },
   "file_extension": ".py",
   "mimetype": "text/x-python",
   "name": "python",
   "nbconvert_exporter": "python",
   "pygments_lexer": "ipython3",
   "version": "3.6.8"
  }
 },
 "nbformat": 4,
 "nbformat_minor": 2
}
