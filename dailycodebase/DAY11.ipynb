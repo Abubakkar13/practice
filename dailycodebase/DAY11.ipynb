{
 "cells": [
  {
   "cell_type": "markdown",
   "metadata": {},
   "source": [
    "## Day 11 - Longest Common Substring"
   ]
  },
  {
   "cell_type": "markdown",
   "metadata": {},
   "source": [
    "Question -- Given two strings, write a program to find the longest string that is a substring of both the given strings."
   ]
  },
  {
   "cell_type": "code",
   "execution_count": 2,
   "metadata": {},
   "outputs": [
    {
     "name": "stdout",
     "output_type": "stream",
     "text": [
      "asd dsfds\n",
      "LCS of asd and dsfds is -sd\n"
     ]
    }
   ],
   "source": [
    "def lcs(str1, str2):\n",
    "    m, n = len(str1), len(str2)\n",
    "\n",
    "    L = [[0 for y in range(n + 1)] for x in range(m + 1)]\n",
    "\n",
    "    for i in range(m + 1):\n",
    "        for j in range(n + 1):\n",
    "            if i == 0 or j == 0:\n",
    "                L[i][j] = 0\n",
    "            elif str1[i - 1] == str2[j - 1]:\n",
    "                L[i][j] = L[i - 1][j - 1] + 1\n",
    "            else:\n",
    "                L[i][j] = max(L[i - 1][j], L[i][j - 1])\n",
    "\n",
    "    index = L[m][n]\n",
    "\n",
    "    # Create a character array to store the lcs string\n",
    "    lcs_str = [\"\"] * (index + 1)\n",
    "    lcs_str[index] = \"\"\n",
    "\n",
    "    i = m\n",
    "    j = n\n",
    "    while i > 0 and j > 0:\n",
    "\n",
    "        # If current character in X[] and Y are same, then\n",
    "        # current character is part of LCS\n",
    "        if str1[i - 1] == str2[j - 1]:\n",
    "            lcs_str[index - 1] = str1[i - 1]\n",
    "            i -= 1\n",
    "            j -= 1\n",
    "            index -= 1\n",
    "\n",
    "        # If not same, then find the larger of two and\n",
    "        # go in the direction of larger value\n",
    "        elif L[i - 1][j] > L[i][j - 1]:\n",
    "            i -= 1\n",
    "        else:\n",
    "            j -= 1\n",
    "\n",
    "    print(\"LCS of \" + str1 + \" and \" + str2 + \" is -\" + \"\".join(lcs_str))\n",
    "\n",
    "\n",
    "lcs(*(input().split()))\n"
   ]
  },
  {
   "cell_type": "code",
   "execution_count": null,
   "metadata": {},
   "outputs": [],
   "source": []
  }
 ],
 "metadata": {
  "kernelspec": {
   "display_name": "Python 3",
   "language": "python",
   "name": "python3"
  },
  "language_info": {
   "codemirror_mode": {
    "name": "ipython",
    "version": 3
   },
   "file_extension": ".py",
   "mimetype": "text/x-python",
   "name": "python",
   "nbconvert_exporter": "python",
   "pygments_lexer": "ipython3",
   "version": "3.6.7"
  }
 },
 "nbformat": 4,
 "nbformat_minor": 2
}
