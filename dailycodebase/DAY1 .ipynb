{
 "cells": [
  {
   "cell_type": "markdown",
   "metadata": {},
   "source": [
    "## Day 1 -- The Fizz Buzz Challenge \n",
    "Write a program that prints the numbers from 1 to n and for multiples of '3' print \"Fizz\" instead of the number, for the multiples of '5' print \"Buzz\", and for the numbers which are divisible by both 3 and 5, print FizzBuzz."
   ]
  },
  {
   "cell_type": "code",
   "execution_count": 1,
   "metadata": {},
   "outputs": [
    {
     "name": "stdin",
     "output_type": "stream",
     "text": [
      "Enter number of digits:  7\n"
     ]
    },
    {
     "name": "stdout",
     "output_type": "stream",
     "text": [
      "1\n",
      "2\n",
      "fizz\n",
      "4\n",
      "buzz\n",
      "fizz\n"
     ]
    }
   ],
   "source": [
    "n = int(input(\"Enter number of digits: \"))\n",
    "\n",
    "for i in range(1, n):\n",
    "  if i%3==0 and i%5==0:\n",
    "    print(\"fizzbuzz\")\n",
    "  elif i%3==0:\n",
    "    print(\"fizz\")\n",
    "  elif i%5==0:\n",
    "    print(\"buzz\")\n",
    "  else:\n",
    "    print(i)"
   ]
  },
  {
   "cell_type": "code",
   "execution_count": null,
   "metadata": {},
   "outputs": [],
   "source": []
  }
 ],
 "metadata": {
  "kernelspec": {
   "display_name": "Python 3",
   "language": "python",
   "name": "python3"
  },
  "language_info": {
   "codemirror_mode": {
    "name": "ipython",
    "version": 3
   },
   "file_extension": ".py",
   "mimetype": "text/x-python",
   "name": "python",
   "nbconvert_exporter": "python",
   "pygments_lexer": "ipython3",
   "version": "3.6.7"
  }
 },
 "nbformat": 4,
 "nbformat_minor": 2
}
