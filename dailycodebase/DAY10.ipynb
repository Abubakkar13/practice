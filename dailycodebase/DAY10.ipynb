{
 "cells": [
  {
   "cell_type": "markdown",
   "metadata": {},
   "source": [
    "### Day 10 -- String Permutation Problem"
   ]
  },
  {
   "cell_type": "markdown",
   "metadata": {},
   "source": [
    "Question Find all the permutations of the given string"
   ]
  },
  {
   "cell_type": "code",
   "execution_count": 1,
   "metadata": {},
   "outputs": [
    {
     "name": "stdout",
     "output_type": "stream",
     "text": [
      "Enter a string: \n",
      "32\n",
      "The permutations of 32 are:\n",
      "32\n",
      "23\n"
     ]
    }
   ],
   "source": [
    "def permutations(string):\n",
    "    if (len(string) <= 1):\n",
    "        return {string}\n",
    "    permutation_set = set()\n",
    "    for i in range(len(string)):\n",
    "        substring = ''\n",
    "        for j in range(len(string)):\n",
    "            if j != i:\n",
    "                substring += string[j]\n",
    "        permutation_set |= set(map(lambda x: string[i] + x, permutations(substring)))\n",
    "    return permutation_set\n",
    "\n",
    "\n",
    "def printSet(string_set):\n",
    "    for string in string_set:\n",
    "        print(string)\n",
    "\n",
    "def main():\n",
    "    print('Enter a string: ')\n",
    "    string = input()\n",
    "    print(f'The permutations of {string} are:')\n",
    "    printSet(permutations(string))\n",
    "\n",
    "main()"
   ]
  },
  {
   "cell_type": "code",
   "execution_count": null,
   "metadata": {},
   "outputs": [],
   "source": []
  }
 ],
 "metadata": {
  "kernelspec": {
   "display_name": "Python 3",
   "language": "python",
   "name": "python3"
  },
  "language_info": {
   "codemirror_mode": {
    "name": "ipython",
    "version": 3
   },
   "file_extension": ".py",
   "mimetype": "text/x-python",
   "name": "python",
   "nbconvert_exporter": "python",
   "pygments_lexer": "ipython3",
   "version": "3.6.7"
  }
 },
 "nbformat": 4,
 "nbformat_minor": 2
}
