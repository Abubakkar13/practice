{
 "cells": [
  {
   "cell_type": "markdown",
   "metadata": {},
   "source": [
    "### Day 4 -- Number of Vowels and Max Chars\n",
    "# Part A -- Number of Vowels\n",
    "Given a string, Write a program that prints the number of vowels in it."
   ]
  },
  {
   "cell_type": "code",
   "execution_count": 1,
   "metadata": {},
   "outputs": [
    {
     "name": "stdin",
     "output_type": "stream",
     "text": [
      "Enter the String :  abcde\n"
     ]
    },
    {
     "name": "stdout",
     "output_type": "stream",
     "text": [
      "Number of vowels in the string are :  2\n"
     ]
    }
   ],
   "source": [
    "string=input(\"Enter the String : \")\n",
    "vowels=['a','e','i','o','u']\n",
    "count=0\n",
    "for char in string:\n",
    "    if char.lower() in vowels:\n",
    "        count+=1\n",
    "print(\"Number of vowels in the string are : \",count)"
   ]
  },
  {
   "cell_type": "markdown",
   "metadata": {},
   "source": [
    "# Part B -- Max Chars Problem\n",
    "Question - Given a string, write a program to return the character that appears most frequently in that string"
   ]
  },
  {
   "cell_type": "code",
   "execution_count": 2,
   "metadata": {},
   "outputs": [
    {
     "name": "stdin",
     "output_type": "stream",
     "text": [
      "Enter the string :  abcde\n"
     ]
    },
    {
     "name": "stdout",
     "output_type": "stream",
     "text": [
      "The most occouring character in the string is :  a\n"
     ]
    }
   ],
   "source": [
    "string=input(\"Enter the string : \")\n",
    "characters={}\n",
    "for char in string:\n",
    "    if char.lower() in characters:\n",
    "        characters[char.lower()]+=1\n",
    "    else:\n",
    "        characters[char.lower()]=1\n",
    "print(\"The most occouring character in the string is : \", max(characters,key=characters.get))"
   ]
  },
  {
   "cell_type": "code",
   "execution_count": null,
   "metadata": {},
   "outputs": [],
   "source": []
  }
 ],
 "metadata": {
  "kernelspec": {
   "display_name": "Python 3",
   "language": "python",
   "name": "python3"
  },
  "language_info": {
   "codemirror_mode": {
    "name": "ipython",
    "version": 3
   },
   "file_extension": ".py",
   "mimetype": "text/x-python",
   "name": "python",
   "nbconvert_exporter": "python",
   "pygments_lexer": "ipython3",
   "version": "3.6.7"
  }
 },
 "nbformat": 4,
 "nbformat_minor": 2
}
