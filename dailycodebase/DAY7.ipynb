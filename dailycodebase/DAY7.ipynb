{
 "cells": [
  {
   "cell_type": "markdown",
   "metadata": {},
   "source": [
    "## Day 7 -- One Edit Away\n",
    "# Question -- Given two strings, check whether they are one edit distance apart, i.e., if str1 and str2 are the given strings, check whether str1 can be converted to str2 with exactly one edit."
   ]
  },
  {
   "cell_type": "code",
   "execution_count": 2,
   "metadata": {},
   "outputs": [
    {
     "name": "stdin",
     "output_type": "stream",
     "text": [
      " abc abcd\n"
     ]
    },
    {
     "data": {
      "text/plain": [
       "True"
      ]
     },
     "execution_count": 2,
     "metadata": {},
     "output_type": "execute_result"
    }
   ],
   "source": [
    "def check_one_edit_away(str1, str2):\n",
    "    l1, l2 = len(str1), len(str2)\n",
    "    if abs(l1 - l2) > 1:\n",
    "        return False\n",
    "    count = 0\n",
    "    i, j = 0, 0\n",
    "    while i < l1 and j < l2:\n",
    "        if str1[i] != str2[j]:\n",
    "            if count == 1:\n",
    "                return False\n",
    "            if l1 > l2:\n",
    "                i += 1\n",
    "            elif l2 > l1:\n",
    "                j += 1\n",
    "            else:\n",
    "                i += 1\n",
    "                j += 1\n",
    "            count += 1\n",
    "        else:\n",
    "            i += 1\n",
    "            j += 1    \n",
    "    if i < l1 or j < l2: \n",
    "        count += 1\n",
    "    return count <= 1\n",
    "check_one_edit_away(*(input().split()))"
   ]
  },
  {
   "cell_type": "code",
   "execution_count": null,
   "metadata": {},
   "outputs": [],
   "source": []
  }
 ],
 "metadata": {
  "kernelspec": {
   "display_name": "Python 3",
   "language": "python",
   "name": "python3"
  },
  "language_info": {
   "codemirror_mode": {
    "name": "ipython",
    "version": 3
   },
   "file_extension": ".py",
   "mimetype": "text/x-python",
   "name": "python",
   "nbconvert_exporter": "python",
   "pygments_lexer": "ipython3",
   "version": "3.6.7"
  }
 },
 "nbformat": 4,
 "nbformat_minor": 2
}
