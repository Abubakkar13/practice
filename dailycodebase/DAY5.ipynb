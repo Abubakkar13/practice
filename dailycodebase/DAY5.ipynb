{
 "cells": [
  {
   "cell_type": "markdown",
   "metadata": {},
   "source": [
    "### Day 5 -- Patterns\n",
    "# Pattern programs like printing a pyramid, inverted pyramid etc. are some very famous problems and a good way to test your logic and knowledge of nested loops. Hence, on the day 5 of Daily Codes, let’s do some pattern based programs\n"
   ]
  },
  {
   "cell_type": "markdown",
   "metadata": {},
   "source": [
    "# Pattern 1\n",
    "input n=5\n",
    "\n",
    "1\n",
    "1 2\n",
    "1 2 3\n",
    "1 2 3 4\n",
    "1 2 3 4 5"
   ]
  },
  {
   "cell_type": "code",
   "execution_count": 1,
   "metadata": {},
   "outputs": [
    {
     "name": "stdout",
     "output_type": "stream",
     "text": [
      "1 \n",
      "1 2 \n",
      "1 2 3 \n",
      "1 2 3 4 \n",
      "1 2 3 4 5 \n"
     ]
    }
   ],
   "source": [
    "def pattern1(num):\n",
    "    for i in range(1,num+1):\n",
    "        currentLine = ''\n",
    "        for j in range(1,i+1):\n",
    "            currentLine = currentLine + str(j) + ' '\n",
    "        print(currentLine)\n",
    "\n",
    "pattern1(5)"
   ]
  },
  {
   "cell_type": "markdown",
   "metadata": {},
   "source": [
    "# Pattern 2\n",
    "input = 4\n",
    "\n",
    "1\n",
    "2 3\n",
    "4 5 6\n",
    "7 8 9 10"
   ]
  },
  {
   "cell_type": "code",
   "execution_count": 2,
   "metadata": {},
   "outputs": [
    {
     "name": "stdout",
     "output_type": "stream",
     "text": [
      "1 \n",
      "2 3 \n",
      "4 5 6 \n",
      "7 8 9 10 \n"
     ]
    }
   ],
   "source": [
    "def pattern2(num):\n",
    "    count = 0\n",
    "    for i in range(1,num+1):\n",
    "        currentLine = ''\n",
    "        for j in range(1,i+1):\n",
    "            count=count+1\n",
    "            currentLine = currentLine + str(count) + ' '\n",
    "        print(currentLine)\n",
    "\n",
    "pattern2(4)"
   ]
  },
  {
   "cell_type": "markdown",
   "metadata": {},
   "source": [
    "# Pattern 3\n",
    "input = 5\n",
    "\n",
    "1\n",
    "1 2\n",
    "1 2 3\n",
    "1 2 3 4\n",
    "1 2 3 4 5\n",
    "1 2 3 4\n",
    "1 2 3\n",
    "1 2\n",
    "1"
   ]
  },
  {
   "cell_type": "code",
   "execution_count": 3,
   "metadata": {},
   "outputs": [
    {
     "name": "stdout",
     "output_type": "stream",
     "text": [
      "1 \n",
      "1 2 \n",
      "1 2 3 \n",
      "1 2 3 4 \n",
      "1 2 3 \n",
      "1 2 \n",
      "1 \n"
     ]
    }
   ],
   "source": [
    "def pattern3(num):\n",
    "    for i in range(1,num+1):\n",
    "        currentLine = ''\n",
    "        for j in range(1,i+1):\n",
    "            currentLine = currentLine + str(j) + ' '\n",
    "        print(currentLine)\n",
    "\n",
    "    for i in range(num-1,0,-1):\n",
    "        currentLine = ''\n",
    "        for j in range(1,i+1):\n",
    "            currentLine= currentLine + str(j) + ' '\n",
    "        print(currentLine)\n",
    "\n",
    "        \n",
    "pattern3(4)"
   ]
  },
  {
   "cell_type": "markdown",
   "metadata": {},
   "source": [
    "# Pattern 4\n",
    "input = 5\n",
    "\n",
    "          1\n",
    "        2 3 2\n",
    "      3 4 5 4 2\n",
    "    4 5 6 7 6 5 4\n",
    "  5 6 7 8 9 8 7 6 5"
   ]
  },
  {
   "cell_type": "code",
   "execution_count": 4,
   "metadata": {},
   "outputs": [
    {
     "name": "stdout",
     "output_type": "stream",
     "text": [
      "        1 \n",
      "      2 3 2\n",
      "    3 4 5 4 3\n",
      "  4 5 6 7 6 5 4\n",
      "5 6 7 8 9 8 7 6 5\n"
     ]
    }
   ],
   "source": [
    "def pattern4(num):\n",
    "    for i in range(1, num+1):\n",
    "        print(\"  \"*(num-i) + #Space\n",
    "                \" \".join(map(str, list(range(i, i+i)))) +  #Number-Sequence\n",
    "                \" \" + \" \".join(map(str, list(range(i+i-2, i-1, -1))))  #Reverse-Number-Sequence\n",
    "            )\n",
    "            \n",
    "pattern4(5)"
   ]
  },
  {
   "cell_type": "markdown",
   "metadata": {},
   "source": [
    "# Pattern 5\n",
    "input = 5\n",
    "\n",
    "* * * * * * * * *\n",
    "  * * * * * * *\n",
    "    * * * * *\n",
    "      * * *\n",
    "        *"
   ]
  },
  {
   "cell_type": "code",
   "execution_count": 5,
   "metadata": {},
   "outputs": [
    {
     "name": "stdout",
     "output_type": "stream",
     "text": [
      "* * * * * * * * * \n",
      "  * * * * * * * \n",
      "    * * * * * \n",
      "      * * * \n",
      "        * \n"
     ]
    }
   ],
   "source": [
    "def pattern5(num):\n",
    "    for i in range(num):\n",
    "        print(\"  \"*i + \"* \"*((num-i)*2-1))\n",
    "\n",
    "pattern5(5)"
   ]
  },
  {
   "cell_type": "markdown",
   "metadata": {},
   "source": [
    "# Pattern 6\n",
    "input = 5\n",
    "\n",
    "         *\n",
    "       * * *\n",
    "     * * * * *\n",
    "   * * * * * * *\n",
    " * * * * * * * * *\n",
    "   * * * * * * *\n",
    "     * * * * *\n",
    "       * * *\n",
    "         *"
   ]
  },
  {
   "cell_type": "code",
   "execution_count": 6,
   "metadata": {},
   "outputs": [
    {
     "name": "stdout",
     "output_type": "stream",
     "text": [
      "        * \n",
      "      * * * \n",
      "    * * * * * \n",
      "  * * * * * * * \n",
      "* * * * * * * * * \n",
      "  * * * * * * * \n",
      "    * * * * * \n",
      "      * * * \n",
      "        * \n"
     ]
    }
   ],
   "source": [
    "def pattern6(num):\n",
    "    for i in range(1, num+1):\n",
    "        print(\"  \"*(num-i) + #Space\n",
    "                \"* \" * (2*i-1)  #Triangle\n",
    "            )\n",
    "    for i in range(2, num+1):\n",
    "        print(\"  \"*(i-1) + #Space\n",
    "                \"* \" * (2*(num-i)+1)  #Triangle\n",
    "            )\n",
    "\n",
    "pattern6(5)"
   ]
  },
  {
   "cell_type": "markdown",
   "metadata": {},
   "source": [
    "# Pattern 7\n",
    "input = 4\n",
    "\n",
    "* * * *  * * * *\n",
    "* * *      * * *\n",
    "* *          * *\n",
    "*              *\n",
    "*              *\n",
    "* *          * *\n",
    "* * *      * * *\n",
    "* * * *  * * * *"
   ]
  },
  {
   "cell_type": "code",
   "execution_count": 7,
   "metadata": {},
   "outputs": [
    {
     "name": "stdout",
     "output_type": "stream",
     "text": [
      "* * * * * * * * \n",
      "* * *     * * * \n",
      "* *         * * \n",
      "*             * \n",
      "*             * \n",
      "* *         * * \n",
      "* * *     * * * \n",
      "* * * * * * * * \n"
     ]
    }
   ],
   "source": [
    "def pattern7(num):\n",
    "    Upper = []\n",
    "    for i in range(1, num+1):\n",
    "        Upper.append(\"* \" * (num-i+1) +  #Left Triangle\n",
    "                    \"    \"*(i-1) + #Space\n",
    "                    \"* \" * (num-i+1)  #Right Triangle\n",
    "                    )\n",
    "\n",
    "    for i in Upper:  # Upper Half\n",
    "        print(i)\n",
    "    for i in Upper[::-1]:  # Lower Half (Reverse of Upper Half)\n",
    "        print(i)\n",
    "\n",
    "pattern7(4)"
   ]
  },
  {
   "cell_type": "markdown",
   "metadata": {},
   "source": [
    "# Pattern 8\n",
    "input = 5\n",
    "\n",
    " *                 *\n",
    " * *             * *\n",
    " * * *         * * *\n",
    " * * * *     * * * *\n",
    " * * * * * * * * * *\n",
    " * * * * * * * * * *\n",
    " * * * *     * * * *\n",
    " * * *         * * *\n",
    " * *             * *\n",
    " *                 *"
   ]
  },
  {
   "cell_type": "code",
   "execution_count": 8,
   "metadata": {},
   "outputs": [
    {
     "name": "stdout",
     "output_type": "stream",
     "text": [
      "*                 * \n",
      "* *             * * \n",
      "* * *         * * * \n",
      "* * * *     * * * * \n",
      "* * * * * * * * * * \n",
      "* * * * * * * * * * \n",
      "* * * *     * * * * \n",
      "* * *         * * * \n",
      "* *             * * \n",
      "*                 * \n"
     ]
    }
   ],
   "source": [
    "def pattern8(num):\n",
    "    Upper = []\n",
    "    for i in range(1, num+1):\n",
    "        Upper.append(\"* \"*i +  #Left Triangle\n",
    "                    \"    \"*(num-i) + #Space\n",
    "                    \"* \"*i  #Right Triangle\n",
    "                    )\n",
    "\n",
    "    for i in Upper:  # Upper Half\n",
    "        print(i)\n",
    "    for i in Upper[::-1]:  # Lower Half (Reverse of Upper Half)\n",
    "        print(i)\n",
    "\n",
    "pattern8(5)"
   ]
  },
  {
   "cell_type": "code",
   "execution_count": null,
   "metadata": {},
   "outputs": [],
   "source": []
  }
 ],
 "metadata": {
  "kernelspec": {
   "display_name": "Python 3",
   "language": "python",
   "name": "python3"
  },
  "language_info": {
   "codemirror_mode": {
    "name": "ipython",
    "version": 3
   },
   "file_extension": ".py",
   "mimetype": "text/x-python",
   "name": "python",
   "nbconvert_exporter": "python",
   "pygments_lexer": "ipython3",
   "version": "3.6.7"
  }
 },
 "nbformat": 4,
 "nbformat_minor": 2
}
