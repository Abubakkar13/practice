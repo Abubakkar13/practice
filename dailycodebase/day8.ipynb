{
 "cells": [
  {
   "cell_type": "markdown",
   "metadata": {},
   "source": [
    "## Day 8 - Maximum Edit Distance (Levenshtein Distance)"
   ]
  },
  {
   "cell_type": "markdown",
   "metadata": {},
   "source": [
    "Given two strings, and operations like replace, delete and add, write a program to determine how many minimum operations would it take to convert one string into another string.\n",
    "\n",
    "Hint: Use Lavenshtein Distance"
   ]
  },
  {
   "cell_type": "code",
   "execution_count": 1,
   "metadata": {},
   "outputs": [
    {
     "name": "stdout",
     "output_type": "stream",
     "text": [
      "==================Minimum Edit Distance====================\n",
      "\n",
      "3\n",
      "6\n"
     ]
    }
   ],
   "source": [
    "def min_edit_distance(str1, str2):\n",
    "    len1 = len(str1)\n",
    "    len2 = len(str2)\n",
    "\n",
    "    # Matrix inilization\n",
    "    dp = [[0 for i in range(len2 + 1)]\n",
    "          for j in range(len1 + 1)]\n",
    "\n",
    "    for i in range(1, len1 + 1):\n",
    "        dp[i][0] = i\n",
    "\n",
    "    for j in range(1, len2 + 1):\n",
    "        dp[0][j] = j\n",
    "\n",
    "    # Fill the DP matrix.\n",
    "\n",
    "    for j in range(1, len2 + 1):\n",
    "        for i in range(1, len1 + 1):\n",
    "            if(str1[i - 1] == str2[j - 1]):\n",
    "                dp[i][j] = dp[i - 1][j - 1]\n",
    "            else:\n",
    "                dp[i][j] = 1 + min(dp[i - 1][j - 1],\n",
    "                                   dp[i][j - 1],\n",
    "                                   dp[i - 1][j])\n",
    "    return dp[len1][len2]\n",
    "\n",
    "\n",
    "def main():\n",
    "\n",
    "    print(\"==================Minimum Edit Distance====================\")\n",
    "    print()\n",
    "\n",
    "    print(min_edit_distance(\"kitten\", \"sitting\"))\n",
    "    print(min_edit_distance(\"abcdef\", \"abcdhgikll\"))\n",
    "\n",
    "\n",
    "if __name__ == '__main__':\n",
    "    main()"
   ]
  }
 ],
 "metadata": {
  "kernelspec": {
   "display_name": "Python 3",
   "language": "python",
   "name": "python3"
  },
  "language_info": {
   "codemirror_mode": {
    "name": "ipython",
    "version": 3
   },
   "file_extension": ".py",
   "mimetype": "text/x-python",
   "name": "python",
   "nbconvert_exporter": "python",
   "pygments_lexer": "ipython3",
   "version": "3.6.7"
  }
 },
 "nbformat": 4,
 "nbformat_minor": 2
}
