{
 "cells": [
  {
   "cell_type": "markdown",
   "metadata": {},
   "source": [
    "# Day 14 - Recursion Series Part B\n",
    "\n",
    "## Question 1\n",
    "Given a number, write a program to find the sum of it's digits using recursion"
   ]
  },
  {
   "cell_type": "code",
   "execution_count": 1,
   "metadata": {},
   "outputs": [
    {
     "name": "stdout",
     "output_type": "stream",
     "text": [
      "4566\n",
      "21\n"
     ]
    }
   ],
   "source": [
    "def sum_of_digits(n):\n",
    "    if n <= 0:\n",
    "        return n\n",
    "    else:\n",
    "        return (n % 10) + sum_of_digits(n // 10)\n",
    "\n",
    "\n",
    "print(sum_of_digits(int(input())))"
   ]
  },
  {
   "cell_type": "code",
   "execution_count": null,
   "metadata": {},
   "outputs": [],
   "source": []
  }
 ],
 "metadata": {
  "kernelspec": {
   "display_name": "Python 3",
   "language": "python",
   "name": "python3"
  },
  "language_info": {
   "codemirror_mode": {
    "name": "ipython",
    "version": 3
   },
   "file_extension": ".py",
   "mimetype": "text/x-python",
   "name": "python",
   "nbconvert_exporter": "python",
   "pygments_lexer": "ipython3",
   "version": "3.6.8"
  }
 },
 "nbformat": 4,
 "nbformat_minor": 2
}
