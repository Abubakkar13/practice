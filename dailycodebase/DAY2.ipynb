{
 "cells": [
  {
   "cell_type": "markdown",
   "metadata": {},
   "source": [
    "## Day 2 -- String Reversal and Palindrome\n",
    "\n",
    "# Part A -- String Reversal\n",
    "Question - Given a string, write a program to return a new string with reversed order of characters.\n"
   ]
  },
  {
   "cell_type": "code",
   "execution_count": 1,
   "metadata": {},
   "outputs": [
    {
     "name": "stdin",
     "output_type": "stream",
     "text": [
      "Enter a string :  rutu\n"
     ]
    },
    {
     "name": "stdout",
     "output_type": "stream",
     "text": [
      "Reverse of rutu = utur\n"
     ]
    }
   ],
   "source": [
    "Str = input(\"Enter a string : \")\n",
    "\n",
    "print(\"Reverse of\", Str, \"=\", Str[::-1])"
   ]
  },
  {
   "cell_type": "markdown",
   "metadata": {},
   "source": [
    "# Part B -- Palindrome Check\n",
    "Question - Given a string, write a function which prints whether or not the given string is a Palindrome\n"
   ]
  },
  {
   "cell_type": "code",
   "execution_count": 2,
   "metadata": {},
   "outputs": [
    {
     "name": "stdin",
     "output_type": "stream",
     "text": [
      "Enter a string :  madam\n"
     ]
    },
    {
     "name": "stdout",
     "output_type": "stream",
     "text": [
      "madam is Palindrome\n"
     ]
    }
   ],
   "source": [
    "Str = input(\"Enter a string : \")\n",
    "\n",
    "print(Str, \"is\", end=\" \")\n",
    "\n",
    "if( Str != Str[::-1] ):\n",
    "    print(\"Not\", end=\" \")\n",
    "\n",
    "print(\"Palindrome\")"
   ]
  },
  {
   "cell_type": "code",
   "execution_count": null,
   "metadata": {},
   "outputs": [],
   "source": []
  }
 ],
 "metadata": {
  "kernelspec": {
   "display_name": "Python 3",
   "language": "python",
   "name": "python3"
  },
  "language_info": {
   "codemirror_mode": {
    "name": "ipython",
    "version": 3
   },
   "file_extension": ".py",
   "mimetype": "text/x-python",
   "name": "python",
   "nbconvert_exporter": "python",
   "pygments_lexer": "ipython3",
   "version": "3.6.7"
  }
 },
 "nbformat": 4,
 "nbformat_minor": 2
}
